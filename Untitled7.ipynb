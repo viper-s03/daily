{
  "nbformat": 4,
  "nbformat_minor": 0,
  "metadata": {
    "colab": {
      "provenance": [],
      "gpuType": "T4",
      "authorship_tag": "ABX9TyMiTUy2xAlMXEYADYc3oc06",
      "include_colab_link": true
    },
    "kernelspec": {
      "name": "python3",
      "display_name": "Python 3"
    },
    "language_info": {
      "name": "python"
    },
    "accelerator": "GPU"
  },
  "cells": [
    {
      "cell_type": "markdown",
      "metadata": {
        "id": "view-in-github",
        "colab_type": "text"
      },
      "source": [
        "<a href=\"https://colab.research.google.com/github/viper-s03/daily/blob/main/Untitled7.ipynb\" target=\"_parent\"><img src=\"https://colab.research.google.com/assets/colab-badge.svg\" alt=\"Open In Colab\"/></a>"
      ]
    },
    {
      "cell_type": "code",
      "source": [
        "# normal string vs raw string\n",
        "\n",
        "path = \"C:\\desktop\\nathan\" #string\n",
        "print(\"string:\",path)"
      ],
      "metadata": {
        "colab": {
          "base_uri": "https://localhost:8080/"
        },
        "id": "y6pDUgj9o4DT",
        "outputId": "b6f1a767-af29-4fb2-91b3-7a823c20b387"
      },
      "execution_count": 7,
      "outputs": [
        {
          "output_type": "stream",
          "name": "stdout",
          "text": [
            "string: C:\\desktop\n",
            "athan\n"
          ]
        }
      ]
    },
    {
      "cell_type": "code",
      "source": [
        "# normal string vs raw string\n",
        "\n",
        "path = r\"C:\\desktop\\nathan\" #string\n",
        "print(\"string:\",path)"
      ],
      "metadata": {
        "colab": {
          "base_uri": "https://localhost:8080/"
        },
        "id": "msXmpLuGo8Ob",
        "outputId": "2cc657ae-e758-4c68-bbec-de53a8fbf911"
      },
      "execution_count": 8,
      "outputs": [
        {
          "output_type": "stream",
          "name": "stdout",
          "text": [
            "string: C:\\desktop\\nathan\n"
          ]
        }
      ]
    },
    {
      "cell_type": "code",
      "execution_count": null,
      "metadata": {
        "id": "cERcSBcRlSZX"
      },
      "outputs": [],
      "source": [
        "import re"
      ]
    },
    {
      "cell_type": "code",
      "source": [
        "test_string = '123abc456789abc123ABC'\n"
      ],
      "metadata": {
        "id": "gzciVFrSnZ2r"
      },
      "execution_count": 1,
      "outputs": []
    },
    {
      "source": [
        "# import the 're' module for regular expression operations\n",
        "import re\n",
        "\n",
        "# finditer() method gives match object\n",
        "test_string = '123abc456789abc123ABC'\n",
        "pattern = re.compile(r'abc')\n",
        "matches = pattern.finditer(test_string)\n",
        "for match in matches:\n",
        "    print(match)"
      ],
      "cell_type": "code",
      "metadata": {
        "colab": {
          "base_uri": "https://localhost:8080/"
        },
        "id": "WfISUdiFoIkT",
        "outputId": "468521c9-2033-44e3-bb80-c6a862d5a83b"
      },
      "execution_count": 4,
      "outputs": [
        {
          "output_type": "stream",
          "name": "stdout",
          "text": [
            "<re.Match object; span=(3, 6), match='abc'>\n",
            "<re.Match object; span=(12, 15), match='abc'>\n"
          ]
        }
      ]
    },
    {
      "cell_type": "code",
      "source": [
        "# or can also be done in following way:\n",
        "matches = re.finditer(r\"abc\", test_string)\n",
        "for match in matches:\n",
        " print(match)"
      ],
      "metadata": {
        "colab": {
          "base_uri": "https://localhost:8080/"
        },
        "id": "SX5PBiayndeS",
        "outputId": "e153f6da-5b0d-48d6-8379-3503aedae152"
      },
      "execution_count": 6,
      "outputs": [
        {
          "output_type": "stream",
          "name": "stdout",
          "text": [
            "<re.Match object; span=(3, 6), match='abc'>\n",
            "<re.Match object; span=(12, 15), match='abc'>\n"
          ]
        }
      ]
    },
    {
      "cell_type": "code",
      "source": [],
      "metadata": {
        "id": "aDzJUdWHoMyi"
      },
      "execution_count": null,
      "outputs": []
    }
  ]
}