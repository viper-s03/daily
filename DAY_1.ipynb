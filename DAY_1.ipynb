{
  "nbformat": 4,
  "nbformat_minor": 0,
  "metadata": {
    "colab": {
      "provenance": [],
      "authorship_tag": "ABX9TyOTAfs0Rl0H6MyTsjFeGIxL",
      "include_colab_link": true
    },
    "kernelspec": {
      "name": "python3",
      "display_name": "Python 3"
    },
    "language_info": {
      "name": "python"
    }
  },
  "cells": [
    {
      "cell_type": "markdown",
      "metadata": {
        "id": "view-in-github",
        "colab_type": "text"
      },
      "source": [
        "<a href=\"https://colab.research.google.com/github/viper-s03/daily/blob/main/DAY_1.ipynb\" target=\"_parent\"><img src=\"https://colab.research.google.com/assets/colab-badge.svg\" alt=\"Open In Colab\"/></a>"
      ]
    },
    {
      "cell_type": "code",
      "execution_count": 1,
      "metadata": {
        "colab": {
          "base_uri": "https://localhost:8080/"
        },
        "id": "E4UI7tcSn4pf",
        "outputId": "7d54aa77-f628-47f7-ecc2-ce2cd5139c64"
      },
      "outputs": [
        {
          "output_type": "stream",
          "name": "stdout",
          "text": [
            "<class 'int'>\n",
            "<class 'float'>\n",
            "<class 'complex'>\n"
          ]
        }
      ],
      "source": [
        "a = 5\n",
        "print(type(a))\n",
        "\n",
        "b = 5.0\n",
        "print(type(b))\n",
        "\n",
        "c = 2 + 4j\n",
        "print(type(c))"
      ]
    },
    {
      "cell_type": "code",
      "source": [
        "s = 'just an example'\n",
        "print(s)\n",
        "\n",
        "# check data type\n",
        "print(type(s))\n",
        "\n",
        "# access string with index\n",
        "print(s[1])\n",
        "print(s[2])\n",
        "print(s[-1])"
      ],
      "metadata": {
        "colab": {
          "base_uri": "https://localhost:8080/"
        },
        "id": "jSEAEPGion1d",
        "outputId": "54a3cb77-caa9-42a6-cad4-afea0ab5d7d2"
      },
      "execution_count": 3,
      "outputs": [
        {
          "output_type": "stream",
          "name": "stdout",
          "text": [
            "just an example\n",
            "<class 'str'>\n",
            "u\n",
            "s\n",
            "e\n"
          ]
        }
      ]
    },
    {
      "cell_type": "code",
      "source": [
        "# Empty list\n",
        "a = []\n",
        "\n",
        "# list with int values\n",
        "a = [1, 2, 3]\n",
        "print(a)\n",
        "\n",
        "# list with mixed int and string\n",
        "b = [\"sunny\", \"this\", \"coding\",\"uff\", 4, 5]\n",
        "print(b)"
      ],
      "metadata": {
        "colab": {
          "base_uri": "https://localhost:8080/"
        },
        "id": "KUawWdCvoxF5",
        "outputId": "d3aab028-3968-4f89-acaf-682880730e6f"
      },
      "execution_count": 5,
      "outputs": [
        {
          "output_type": "stream",
          "name": "stdout",
          "text": [
            "[1, 2, 3]\n",
            "['sunny', 'this', 'coding', 'uff', 4, 5]\n"
          ]
        }
      ]
    },
    {
      "cell_type": "code",
      "source": [
        "a = [\"sunny\", \"this\", \"coding\",\"uff\", 4, 5]\n",
        "print(\"Accessing element from the list\")\n",
        "print(a[0])\n",
        "print(a[2])\n",
        "\n",
        "print(\"Accessing element using negative indexing\")\n",
        "print(a[-1])\n",
        "print(a[-3])"
      ],
      "metadata": {
        "colab": {
          "base_uri": "https://localhost:8080/"
        },
        "id": "1AKCzC6To8ez",
        "outputId": "6a5248dd-92b6-4be9-caa9-f25965effbd1"
      },
      "execution_count": 7,
      "outputs": [
        {
          "output_type": "stream",
          "name": "stdout",
          "text": [
            "Accessing element from the list\n",
            "sunny\n",
            "coding\n",
            "Accessing element using negative indexing\n",
            "5\n",
            "uff\n"
          ]
        }
      ]
    },
    {
      "cell_type": "code",
      "source": [
        "# initiate empty tuple\n",
        "t1 = ()\n",
        "\n",
        "t2 = ('malla', 'reddy')\n",
        "print(\"\\nTuple with the use of String: \", t2)"
      ],
      "metadata": {
        "colab": {
          "base_uri": "https://localhost:8080/"
        },
        "id": "377Ch2p8pEU7",
        "outputId": "6ab7e4ca-6d72-4865-8255-2e976e4d0c89"
      },
      "execution_count": 9,
      "outputs": [
        {
          "output_type": "stream",
          "name": "stdout",
          "text": [
            "\n",
            "Tuple with the use of String:  ('malla', 'reddy')\n"
          ]
        }
      ]
    },
    {
      "cell_type": "code",
      "source": [
        "t1 = tuple([1, 2, 3, 4, 5])\n",
        "\n",
        "# access tuple items\n",
        "print(t1[0])\n",
        "print(t1[-1])\n",
        "print(t1[-3])"
      ],
      "metadata": {
        "colab": {
          "base_uri": "https://localhost:8080/"
        },
        "id": "eFbVIVzGpMVK",
        "outputId": "59fcdb7b-2800-4b28-dca8-24fa27a714f9"
      },
      "execution_count": 10,
      "outputs": [
        {
          "output_type": "stream",
          "name": "stdout",
          "text": [
            "1\n",
            "5\n",
            "3\n"
          ]
        }
      ]
    },
    {
      "cell_type": "code",
      "source": [
        "print(type(True))\n",
        "print(type(False))\n",
        "print(type(true))"
      ],
      "metadata": {
        "colab": {
          "base_uri": "https://localhost:8080/",
          "height": 211
        },
        "id": "lexyurvUpOUl",
        "outputId": "cd2c7e9d-4ba9-4532-b332-a5953cf5c92d"
      },
      "execution_count": 12,
      "outputs": [
        {
          "output_type": "stream",
          "name": "stdout",
          "text": [
            "<class 'bool'>\n",
            "<class 'bool'>\n"
          ]
        },
        {
          "output_type": "error",
          "ename": "NameError",
          "evalue": "name 'true' is not defined",
          "traceback": [
            "\u001b[0;31m---------------------------------------------------------------------------\u001b[0m",
            "\u001b[0;31mNameError\u001b[0m                                 Traceback (most recent call last)",
            "\u001b[0;32m<ipython-input-12-5bfe175a5f35>\u001b[0m in \u001b[0;36m<cell line: 0>\u001b[0;34m()\u001b[0m\n\u001b[1;32m      1\u001b[0m \u001b[0mprint\u001b[0m\u001b[0;34m(\u001b[0m\u001b[0mtype\u001b[0m\u001b[0;34m(\u001b[0m\u001b[0;32mTrue\u001b[0m\u001b[0;34m)\u001b[0m\u001b[0;34m)\u001b[0m\u001b[0;34m\u001b[0m\u001b[0;34m\u001b[0m\u001b[0m\n\u001b[1;32m      2\u001b[0m \u001b[0mprint\u001b[0m\u001b[0;34m(\u001b[0m\u001b[0mtype\u001b[0m\u001b[0;34m(\u001b[0m\u001b[0;32mFalse\u001b[0m\u001b[0;34m)\u001b[0m\u001b[0;34m)\u001b[0m\u001b[0;34m\u001b[0m\u001b[0;34m\u001b[0m\u001b[0m\n\u001b[0;32m----> 3\u001b[0;31m \u001b[0mprint\u001b[0m\u001b[0;34m(\u001b[0m\u001b[0mtype\u001b[0m\u001b[0;34m(\u001b[0m\u001b[0mtrue\u001b[0m\u001b[0;34m)\u001b[0m\u001b[0;34m)\u001b[0m\u001b[0;34m\u001b[0m\u001b[0;34m\u001b[0m\u001b[0m\n\u001b[0m",
            "\u001b[0;31mNameError\u001b[0m: name 'true' is not defined"
          ]
        }
      ]
    },
    {
      "cell_type": "code",
      "source": [
        "# initializing empty set\n",
        "s1 = set()\n",
        "\n",
        "s1 = set(\"mallareddyuniversity\")\n",
        "print(\"Set with the use of String: \", s1)\n",
        "\n",
        "s2 = set([\"malla\", \"reddy\", \"university\"])\n",
        "print(\"Set with the use of List: \", s2)"
      ],
      "metadata": {
        "colab": {
          "base_uri": "https://localhost:8080/"
        },
        "id": "_o3-xc6dphO2",
        "outputId": "b9ed283f-a62f-46f7-9d33-d4b17ad21e0b"
      },
      "execution_count": 14,
      "outputs": [
        {
          "output_type": "stream",
          "name": "stdout",
          "text": [
            "Set with the use of String:  {'n', 'v', 'r', 't', 'y', 'e', 'u', 'l', 's', 'i', 'd', 'a', 'm'}\n",
            "Set with the use of List:  {'malla', 'reddy', 'university'}\n"
          ]
        }
      ]
    },
    {
      "cell_type": "code",
      "source": [
        "s1 = set([\"malla\", \"reddy\", \"university\"])\n",
        "print(s1)\n",
        "\n",
        "# loop through set\n",
        "for i in s1:\n",
        "    print(i, end=\" \")\n",
        "\n",
        "# check if item exist in set\n",
        "print(\"malla\" in s1)"
      ],
      "metadata": {
        "colab": {
          "base_uri": "https://localhost:8080/"
        },
        "id": "SPS1yOw4pyYN",
        "outputId": "09064f7c-e172-4bfc-f91c-fa93f2af6430"
      },
      "execution_count": 17,
      "outputs": [
        {
          "output_type": "stream",
          "name": "stdout",
          "text": [
            "{'malla', 'reddy', 'university'}\n",
            "malla reddy university True\n"
          ]
        }
      ]
    },
    {
      "cell_type": "code",
      "source": [
        "# initialize empty dictionary\n",
        "d = {}\n",
        "\n",
        "\n",
        "d = {1: 'ford', 2: 'GTR', 3: 'supra'}\n",
        "print(d)\n",
        "\n",
        "# creating dictionary using dict() constructor\n",
        "d1 = dict({1: 'ford', 2: 'GTR', 3: 'supra'})\n",
        "print(d1)"
      ],
      "metadata": {
        "colab": {
          "base_uri": "https://localhost:8080/"
        },
        "id": "R_zKiB4cqG2h",
        "outputId": "db293974-ddbb-45ee-f93c-e5518e755547"
      },
      "execution_count": 19,
      "outputs": [
        {
          "output_type": "stream",
          "name": "stdout",
          "text": [
            "{1: 'ford', 2: 'GTR', 3: 'supra'}\n",
            "{1: 'ford', 2: 'GTR', 3: 'supra'}\n"
          ]
        }
      ]
    },
    {
      "cell_type": "code",
      "source": [
        "d = dict({1: 'ford', 2: 'GTR', 3: 'supra'})\n",
        "\n",
        "# Accessing an element using key\n",
        "print(d[2])\n",
        "\n",
        "# Accessing a element using get\n",
        "print(d.get(3))"
      ],
      "metadata": {
        "colab": {
          "base_uri": "https://localhost:8080/"
        },
        "id": "EdxgjTjEqUdA",
        "outputId": "33263688-00e0-4087-d5c0-2a2d88e33de7"
      },
      "execution_count": 21,
      "outputs": [
        {
          "output_type": "stream",
          "name": "stdout",
          "text": [
            "GTR\n",
            "supra\n"
          ]
        }
      ]
    },
    {
      "cell_type": "code",
      "source": [
        "fruits = [\"apple\", \"banana\", \"orange\"]\n",
        "print(fruits)\n",
        "fruits.append(\"grape\")\n",
        "print(fruits)\n",
        "fruits.remove(\"orange\")\n",
        "print(fruits)"
      ],
      "metadata": {
        "colab": {
          "base_uri": "https://localhost:8080/"
        },
        "id": "54KVoAPKqoir",
        "outputId": "d1c0fdc8-004d-4455-d452-8409cf618c0d"
      },
      "execution_count": 22,
      "outputs": [
        {
          "output_type": "stream",
          "name": "stdout",
          "text": [
            "['apple', 'banana', 'orange']\n",
            "['apple', 'banana', 'orange', 'grape']\n",
            "['apple', 'banana', 'grape']\n"
          ]
        }
      ]
    }
  ]
}