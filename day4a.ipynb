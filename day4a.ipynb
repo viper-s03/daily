{
  "nbformat": 4,
  "nbformat_minor": 0,
  "metadata": {
    "colab": {
      "provenance": [],
      "authorship_tag": "ABX9TyPBEn5Ox/fq5ddEIkhsoIed",
      "include_colab_link": true
    },
    "kernelspec": {
      "name": "python3",
      "display_name": "Python 3"
    },
    "language_info": {
      "name": "python"
    }
  },
  "cells": [
    {
      "cell_type": "markdown",
      "metadata": {
        "id": "view-in-github",
        "colab_type": "text"
      },
      "source": [
        "<a href=\"https://colab.research.google.com/github/viper-s03/daily/blob/main/day4a.ipynb\" target=\"_parent\"><img src=\"https://colab.research.google.com/assets/colab-badge.svg\" alt=\"Open In Colab\"/></a>"
      ]
    },
    {
      "cell_type": "code",
      "execution_count": 1,
      "metadata": {
        "colab": {
          "base_uri": "https://localhost:8080/"
        },
        "id": "zQprrWCMuhZV",
        "outputId": "3e90bc4c-11a2-4df1-9d89-3e537f157785"
      },
      "outputs": [
        {
          "output_type": "stream",
          "name": "stdout",
          "text": [
            "Enter marks for subject 1: 23\n",
            "Enter marks for subject 2: 45\n",
            "Enter marks for subject 3: 99\n",
            "Grade: Fail\n"
          ]
        }
      ],
      "source": [
        "# Input marks for three subjects\n",
        "s1 = float(input(\"Enter marks for subject 1: \"))\n",
        "s2 = float(input(\"Enter marks for subject 2: \"))\n",
        "s3 = float(input(\"Enter marks for subject 3: \"))\n",
        "\n",
        "# Calculate average\n",
        "average = (s1 + s2 + s3) / 3\n",
        "\n",
        "# Determine grade based on average\n",
        "if average >= 90:\n",
        "    print(\"Grade: A\")\n",
        "elif 80 <= average < 90:\n",
        "    print(\"Grade: B\")\n",
        "elif 70 <= average < 80:\n",
        "    print(\"Grade: C\")\n",
        "else:\n",
        "    print(\"Grade: Fail\")\n"
      ]
    }
  ]
}