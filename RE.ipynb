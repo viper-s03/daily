{
  "nbformat": 4,
  "nbformat_minor": 0,
  "metadata": {
    "colab": {
      "provenance": [],
      "authorship_tag": "ABX9TyPYvaqNyL6mOFWum308pyEq",
      "include_colab_link": true
    },
    "kernelspec": {
      "name": "python3",
      "display_name": "Python 3"
    },
    "language_info": {
      "name": "python"
    }
  },
  "cells": [
    {
      "cell_type": "markdown",
      "metadata": {
        "id": "view-in-github",
        "colab_type": "text"
      },
      "source": [
        "<a href=\"https://colab.research.google.com/github/viper-s03/daily/blob/main/RE.ipynb\" target=\"_parent\"><img src=\"https://colab.research.google.com/assets/colab-badge.svg\" alt=\"Open In Colab\"/></a>"
      ]
    },
    {
      "cell_type": "code",
      "execution_count": 1,
      "metadata": {
        "colab": {
          "base_uri": "https://localhost:8080/"
        },
        "id": "-oMrXDmc-wsF",
        "outputId": "b67268b5-666e-435b-8ef2-3b9f4b892e20"
      },
      "outputs": [
        {
          "output_type": "stream",
          "name": "stdout",
          "text": [
            "i am ginign a something efefefle \r sfdnjsf\n"
          ]
        }
      ],
      "source": [
        "print(\"i am ginign a something efefefle \\r sfdnjsf\")\n",
        "#\\r carriage return"
      ]
    },
    {
      "cell_type": "code",
      "source": [],
      "metadata": {
        "id": "AWiDSHm3Cs6y"
      },
      "execution_count": null,
      "outputs": []
    },
    {
      "cell_type": "code",
      "source": [
        "import re\n",
        "string='the eoots of education ARE BITTER ,BUT FRUIT IS SWEET'\n",
        "pattern='education'\n",
        "result=re.search(pattern,string)\n",
        "print(result)"
      ],
      "metadata": {
        "colab": {
          "base_uri": "https://localhost:8080/"
        },
        "id": "ex2nIIPhCtbM",
        "outputId": "a557afee-d34f-4251-d1ae-93ea734a60b3"
      },
      "execution_count": 7,
      "outputs": [
        {
          "output_type": "stream",
          "name": "stdout",
          "text": [
            "<re.Match object; span=(13, 22), match='education'>\n"
          ]
        }
      ]
    },
    {
      "cell_type": "code",
      "source": [
        "pattern=r'\\d'\n",
        "string='the eoots of wduscATION ARE BITTER ,BUT FRUIT IS SWEET'\n"
      ],
      "metadata": {
        "id": "btubgwlJHW5P"
      },
      "execution_count": null,
      "outputs": []
    }
  ]
}