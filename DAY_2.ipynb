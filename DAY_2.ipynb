{
  "nbformat": 4,
  "nbformat_minor": 0,
  "metadata": {
    "colab": {
      "provenance": [],
      "authorship_tag": "ABX9TyPnwJhCmY2U5Q82N4vhhHx9",
      "include_colab_link": true
    },
    "kernelspec": {
      "name": "python3",
      "display_name": "Python 3"
    },
    "language_info": {
      "name": "python"
    }
  },
  "cells": [
    {
      "cell_type": "markdown",
      "metadata": {
        "id": "view-in-github",
        "colab_type": "text"
      },
      "source": [
        "<a href=\"https://colab.research.google.com/github/viper-s03/daily/blob/main/DAY_2.ipynb\" target=\"_parent\"><img src=\"https://colab.research.google.com/assets/colab-badge.svg\" alt=\"Open In Colab\"/></a>"
      ]
    },
    {
      "cell_type": "code",
      "execution_count": 3,
      "metadata": {
        "colab": {
          "base_uri": "https://localhost:8080/"
        },
        "id": "EZHSO13Grg-s",
        "outputId": "ab42da68-ff68-48cb-b8f7-c6f449a74cab"
      },
      "outputs": [
        {
          "output_type": "stream",
          "name": "stdout",
          "text": [
            "[23, 45, 12, 67, 34, 89]\n",
            "[23, 12, 67, 34, 89]\n"
          ]
        }
      ],
      "source": [
        "data = [23, 45, 12, 67, 34]\n",
        "data.append(89)  # Add an item\n",
        "print(data)\n",
        "data.remove(45)  # Remove an item\n",
        "print(data)"
      ]
    },
    {
      "cell_type": "code",
      "source": [
        "# Create an empty list using square brackets\n",
        "l1 = []\n",
        "\n",
        "# Create a four-element list using square brackets\n",
        "l2 = [1, 2, \"3\", 4]  # Note that this lists contains two different data types: integers and strings\n",
        "\n",
        "# Create an empty list using the list() constructor\n",
        "l3 = list()\n",
        "\n",
        "# Create a three-element list from a tuple using the list() constructor\n",
        "# We will talk about tuples later in the tutorial\n",
        "l4 = list((1, 2, 3))\n",
        "\n",
        "# Print out lists\n",
        "print(f\"l1: {l1}\")\n",
        "print(f\"l2: {l2}\")\n",
        "print(f\"l3: {l3}\")\n",
        "print(f\"l4: {l4}\")"
      ],
      "metadata": {
        "colab": {
          "base_uri": "https://localhost:8080/"
        },
        "id": "j9hseTu9sXvj",
        "outputId": "f818fda6-6cc6-45f1-c54b-386c2f201be3"
      },
      "execution_count": 10,
      "outputs": [
        {
          "output_type": "stream",
          "name": "stdout",
          "text": [
            "l1: []\n",
            "l2: [1, 2, '3', 4]\n",
            "l3: []\n",
            "l4: [1, 2, 3]\n"
          ]
        }
      ]
    },
    {
      "cell_type": "code",
      "source": [
        "# Print out the first element of list l2\n",
        "print(f\"The first element of the list l2 is {l2[0]}.\")\n",
        "print()\n",
        "\n",
        "# Print out the third element of list l4\n",
        "print(f\"The third element of the list l4 is {l4[2]}.\")"
      ],
      "metadata": {
        "colab": {
          "base_uri": "https://localhost:8080/"
        },
        "id": "LOKlbkT3sk87",
        "outputId": "ebd72f44-4824-43d1-f698-6c8197cb1552"
      },
      "execution_count": 11,
      "outputs": [
        {
          "output_type": "stream",
          "name": "stdout",
          "text": [
            "The first element of the list l2 is 1.\n",
            "\n",
            "The third element of the list l4 is 3.\n"
          ]
        }
      ]
    },
    {
      "cell_type": "code",
      "source": [
        "l5 = l2[2:]\n",
        "\n",
        "# Print out the resulting list\n",
        "print(l5)"
      ],
      "metadata": {
        "colab": {
          "base_uri": "https://localhost:8080/"
        },
        "id": "z_sqMV9fsmYT",
        "outputId": "9c92e9c7-ca2b-4d66-c810-dcc91d129743"
      },
      "execution_count": 13,
      "outputs": [
        {
          "output_type": "stream",
          "name": "stdout",
          "text": [
            "['3', 4]\n"
          ]
        }
      ]
    },
    {
      "cell_type": "code",
      "source": [
        "# Create dictionary with duplicate keys\n",
        "d1 = {\"1\": 1, \"1\": 2}\n",
        "print(d1)\n",
        "print(d1[\"1\"])\n"
      ],
      "metadata": {
        "colab": {
          "base_uri": "https://localhost:8080/"
        },
        "id": "sFiSnSwZsppT",
        "outputId": "61ef96f3-6015-4f51-c4a7-18f23322554c"
      },
      "execution_count": 15,
      "outputs": [
        {
          "output_type": "stream",
          "name": "stdout",
          "text": [
            "{'1': 2}\n",
            "2\n"
          ]
        }
      ]
    },
    {
      "cell_type": "code",
      "source": [
        "d1 = {}\n",
        "\n",
        "# Create a two-element dictionary using curly brackets\n",
        "d2 = {\"John\": {\"Age\": 27, \"Hometown\": \"USA\"}, \"Rebecca\": {\"Age\": 31, \"Hometown\": \"Chicago\"}}\n",
        "# Note that the above dictionary has a more complex structure as its values are dictionaries themselves!\n",
        "\n",
        "# Create an empty dictionary using the dict() constructor\n",
        "d3 = dict()\n",
        "\n",
        "# Create a two-element dictionary using the dict() constructor\n",
        "d4 = dict([[\"one\", 1], [\"two\", 2]])  # Note that we created the dictionary from a list of lists\n",
        "\n",
        "# Print out dictionaries\n",
        "print(f\"d1: {d1}\")\n",
        "print(f\"d2: {d2}\")\n",
        "print(f\"d3: {d3}\")\n",
        "print(f\"d4: {d4}\")\n"
      ],
      "metadata": {
        "colab": {
          "base_uri": "https://localhost:8080/"
        },
        "id": "sdtN22ucs3d2",
        "outputId": "511e6ee4-d4f0-4d59-b605-7087519abd08"
      },
      "execution_count": 16,
      "outputs": [
        {
          "output_type": "stream",
          "name": "stdout",
          "text": [
            "d1: {}\n",
            "d2: {'John': {'Age': 27, 'Hometown': 'USA'}, 'Rebecca': {'Age': 31, 'Hometown': 'Chicago'}}\n",
            "d3: {}\n",
            "d4: {'one': 1, 'two': 2}\n"
          ]
        }
      ]
    },
    {
      "cell_type": "code",
      "source": [
        "# Create a tuple using round brackets\n",
        "t1 = (1, 2, 3, 4)\n",
        "\n",
        "# Create a tuple from a list the tuple() constructor\n",
        "t2 = tuple([1, 2, 3, 4, 5])\n",
        "\n",
        "# Create a tuple using the tuple() constructor\n",
        "t3 = tuple([1, 2, 3, 4, 5, 6])\n",
        "\n",
        "# Print out tuples\n",
        "print(f\" t1: {t1}\")\n",
        "print(f\" t2: {t2}\")\n",
        "print(f\" t3: {t3}\")"
      ],
      "metadata": {
        "colab": {
          "base_uri": "https://localhost:8080/"
        },
        "id": "8WINQLkKtFd6",
        "outputId": "cb44c974-d37f-47a7-93af-2cbb3f30a91b"
      },
      "execution_count": 18,
      "outputs": [
        {
          "output_type": "stream",
          "name": "stdout",
          "text": [
            " t1: (1, 2, 3, 4)\n",
            " t2: (1, 2, 3, 4, 5)\n",
            " t3: (1, 2, 3, 4, 5, 6)\n"
          ]
        }
      ]
    },
    {
      "cell_type": "code",
      "source": [
        "t1[0] = 1"
      ],
      "metadata": {
        "colab": {
          "base_uri": "https://localhost:8080/",
          "height": 141
        },
        "id": "A8_eOcHctTlT",
        "outputId": "bb5d7891-edbc-4d6f-8f87-96bbf70a5710"
      },
      "execution_count": 19,
      "outputs": [
        {
          "output_type": "error",
          "ename": "TypeError",
          "evalue": "'tuple' object does not support item assignment",
          "traceback": [
            "\u001b[0;31m---------------------------------------------------------------------------\u001b[0m",
            "\u001b[0;31mTypeError\u001b[0m                                 Traceback (most recent call last)",
            "\u001b[0;32m<ipython-input-19-a75f7beedda4>\u001b[0m in \u001b[0;36m<cell line: 0>\u001b[0;34m()\u001b[0m\n\u001b[0;32m----> 1\u001b[0;31m \u001b[0mt1\u001b[0m\u001b[0;34m[\u001b[0m\u001b[0;36m0\u001b[0m\u001b[0;34m]\u001b[0m \u001b[0;34m=\u001b[0m \u001b[0;36m1\u001b[0m\u001b[0;34m\u001b[0m\u001b[0;34m\u001b[0m\u001b[0m\n\u001b[0m",
            "\u001b[0;31mTypeError\u001b[0m: 'tuple' object does not support item assignment"
          ]
        }
      ]
    },
    {
      "cell_type": "code",
      "source": [
        "print(f\"The value at index 1 in t2 is {t2[1]}.\")\n"
      ],
      "metadata": {
        "colab": {
          "base_uri": "https://localhost:8080/"
        },
        "id": "DTu0nMOHtc1k",
        "outputId": "dba0f3a9-b1af-4501-9996-cea20a5be32e"
      },
      "execution_count": 20,
      "outputs": [
        {
          "output_type": "stream",
          "name": "stdout",
          "text": [
            "The value at index 1 in t2 is 2.\n"
          ]
        }
      ]
    },
    {
      "cell_type": "code",
      "source": [],
      "metadata": {
        "id": "BdSDb55dtUDx"
      },
      "execution_count": null,
      "outputs": []
    }
  ]
}